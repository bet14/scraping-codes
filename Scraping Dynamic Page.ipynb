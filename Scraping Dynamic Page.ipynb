{
 "cells": [
  {
   "cell_type": "code",
   "execution_count": null,
   "id": "34fe490a-d9a5-4d43-8c49-02e4114eaf67",
   "metadata": {},
   "outputs": [],
   "source": [
    "import asyncio\n",
    "from requests_html import HTMLSession\n",
    "import random\n",
    "url = \"https://sports.sbk-188bet.com/vi-vn/sports\"\n",
    "user_agents_list = [\n",
    "    'Mozilla/5.0 (iPad; CPU OS 12_2 like Mac OS X) AppleWebKit/605.1.15 (KHTML, like Gecko) Mobile/15E148',\n",
    "    'Mozilla/5.0 (Macintosh; Intel Mac OS X 10_15_7) AppleWebKit/537.36 (KHTML, like Gecko) Chrome/99.0.4844.83 Safari/537.36',\n",
    "    'Mozilla/5.0 (Windows NT 10.0; Win64; x64) AppleWebKit/537.36 (KHTML, like Gecko) Chrome/99.0.4844.51 Safari/537.36'\n",
    "]\n",
    "session = HTMLSession()\n",
    "\n",
    "r = session.get(url, headers={'User-Agent': random.choice(user_agents_list)})\n",
    "r.html.render(sleep=1)\n",
    "print(r.status_code)"
   ]
  },
  {
   "cell_type": "code",
   "execution_count": null,
   "id": "793afb5d-7472-4946-bc10-0a41d1ec2b64",
   "metadata": {},
   "outputs": [],
   "source": []
  },
  {
   "cell_type": "code",
   "execution_count": 23,
   "id": "b2832ac2-b632-4d4d-ac0c-9c0bb5f8b9a0",
   "metadata": {},
   "outputs": [
    {
     "name": "stderr",
     "output_type": "stream",
     "text": [
      "C:\\Users\\Lee\\AppData\\Local\\Temp\\ipykernel_3512\\2143366537.py:10: DeprecationWarning: executable_path has been deprecated, please pass in a Service object\n",
      "  driver = webdriver.Chrome(executable_path=chrome_driver_path, options=chrome_options)\n"
     ]
    }
   ],
   "source": [
    "from selenium import webdriver\n",
    "from selenium.webdriver.common.keys import Keys\n",
    "\n",
    "# Đường dẫn đến Chrome Driver\n",
    "chrome_driver_path = r'D:\\Application\\chromedriver-win32\\chromedriver-win32\\chromedriver.exe'\n",
    "\n",
    "# Khởi tạo trình duyệt Chrome với đường dẫn đến Chrome Driver\n",
    "chrome_options = webdriver.ChromeOptions()\n",
    "chrome_options.binary_location = r'D:\\Application\\chrome-win64\\chrome.exe'\n",
    "driver = webdriver.Chrome(executable_path=chrome_driver_path, options=chrome_options)\n",
    "\n",
    "# Mở trang Google\n",
    "driver.get(\"https://www.thivien.net/%C4%90%E1%BB%97-Ph%E1%BB%A7/author-Se3x2jWTezvoDpkpSU9qjg\")\n",
    "\n"
   ]
  },
  {
   "cell_type": "code",
   "execution_count": 26,
   "id": "339a4e3c-b897-4e2f-9fac-8bccebbf9a57",
   "metadata": {},
   "outputs": [],
   "source": [
    "from selenium import webdriver\n",
    "from selenium.webdriver.chrome.service import Service\n",
    "from selenium.webdriver.common.keys import Keys\n",
    "\n",
    "# Đường dẫn đến Chrome Driver\n",
    "chrome_driver_path = r'D:\\Application\\chromedriver-win32\\chromedriver-win32\\chromedriver.exe'\n",
    "\n",
    "# Khởi tạo một Service object\n",
    "service = Service(chrome_driver_path)\n",
    "\n",
    "# Khởi tạo trình duyệt Chrome với Service object và các tùy chọn\n",
    "chrome_options = webdriver.ChromeOptions()\n",
    "chrome_options.binary_location = r'D:\\Application\\chrome-win64\\chrome.exe'\n",
    "driver = webdriver.Chrome(service=service, options=chrome_options)\n",
    "\n",
    "# Mở trang Google\n",
    "driver.get(\"https://www.google.com\")\n",
    "\n",
    "# Tìm ô nhập liệu và nhập từ khóa \"python\", sau đó nhấn Enter\n",
    "search_box = driver.find_element(By.CSS_SELECTOR, 'textarea[name=\"q\"]')\n",
    "search_box.send_keys(\"python\")\n",
    "search_box.send_keys(Keys.RETURN)\n",
    "\n",
    "# Chờ một chút để trang tải hoàn tất trước khi đóng trình duyệt\n",
    "driver.implicitly_wait(5)\n",
    "\n"
   ]
  },
  {
   "cell_type": "code",
   "execution_count": null,
   "id": "a245af4e-d533-4187-89a1-99357b25cc19",
   "metadata": {},
   "outputs": [],
   "source": [
    "# Đóng trình duyệt\n",
    "driver.quit()"
   ]
  }
 ],
 "metadata": {
  "kernelspec": {
   "display_name": "Python 3 (ipykernel)",
   "language": "python",
   "name": "python3"
  },
  "language_info": {
   "codemirror_mode": {
    "name": "ipython",
    "version": 3
   },
   "file_extension": ".py",
   "mimetype": "text/x-python",
   "name": "python",
   "nbconvert_exporter": "python",
   "pygments_lexer": "ipython3",
   "version": "3.11.7"
  }
 },
 "nbformat": 4,
 "nbformat_minor": 5
}
