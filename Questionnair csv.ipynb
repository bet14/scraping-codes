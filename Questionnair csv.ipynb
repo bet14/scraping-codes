{
 "cells": [
  {
   "cell_type": "code",
   "execution_count": 1,
   "id": "0edbac9b-25f3-4bfe-b723-8684e2df82b4",
   "metadata": {},
   "outputs": [
    {
     "name": "stdout",
     "output_type": "stream",
     "text": [
      "Tạo tệp CSV thành công!\n"
     ]
    }
   ],
   "source": [
    "import csv\n",
    "import random\n",
    "\n",
    "# Hàm để tạo ngẫu nhiên Yes, No, hoặc NaN theo tỉ lệ đã cho\n",
    "def generate_random_response():\n",
    "    rand_num = random.randint(1, 100)\n",
    "    if rand_num <= 15:\n",
    "        return \"Yes\"\n",
    "    elif 15 < rand_num <= 90:\n",
    "        return \"No\"\n",
    "    else:\n",
    "        return \"NaN\"\n",
    "\n",
    "# Tạo danh sách các câu hỏi từ Question1 đến Question5\n",
    "questions = [\"Question1\", \"Question2\", \"Question3\", \"Question4\", \"Question5\"]\n",
    "\n",
    "# Tạo tệp CSV trên ổ D:/\n",
    "file_path = \"D:/sample_data.csv\"\n",
    "\n",
    "# Ghi dữ liệu vào tệp CSV\n",
    "with open(file_path, mode='w', newline='') as file:\n",
    "    writer = csv.writer(file)\n",
    "    \n",
    "    # Ghi header của bảng\n",
    "    writer.writerow([\"Person\"] + questions)\n",
    "    \n",
    "    # Ghi dữ liệu cho 200 dòng\n",
    "    for i in range(1, 201):\n",
    "        person = f\"P{i}\"\n",
    "        responses = [generate_random_response() for _ in range(5)]\n",
    "        writer.writerow([person] + responses)\n",
    "\n",
    "print(\"Tạo tệp CSV thành công!\")\n"
   ]
  },
  {
   "cell_type": "code",
   "execution_count": 2,
   "id": "3299415d-8272-4cb0-b747-d718116dce19",
   "metadata": {},
   "outputs": [
    {
     "name": "stdout",
     "output_type": "stream",
     "text": [
      "Chuyển đổi dữ liệu thành công và đã lưu vào tệp transposed_data.csv!\n"
     ]
    }
   ],
   "source": [
    "import csv\n",
    "\n",
    "# Đường dẫn của tệp CSV cần chuyển đổi\n",
    "file_path = \"D:/sample_data.csv\"\n",
    "\n",
    "# Đọc dữ liệu từ tệp CSV và chuyển đổi thành dạng transpose\n",
    "with open(file_path, mode='r') as file:\n",
    "    reader = csv.reader(file)\n",
    "    data = list(reader)\n",
    "\n",
    "# Transpose data\n",
    "transposed_data = list(map(list, zip(*data)))\n",
    "\n",
    "# Tạo tệp CSV mới cho dữ liệu transpose\n",
    "transposed_file_path = \"D:/transposed_data.csv\"\n",
    "with open(transposed_file_path, mode='w', newline='') as file:\n",
    "    writer = csv.writer(file)\n",
    "    for row in transposed_data:\n",
    "        writer.writerow(row)\n",
    "\n",
    "print(\"Chuyển đổi dữ liệu thành công và đã lưu vào tệp transposed_data.csv!\")"
   ]
  }
 ],
 "metadata": {
  "kernelspec": {
   "display_name": "Python 3 (ipykernel)",
   "language": "python",
   "name": "python3"
  },
  "language_info": {
   "codemirror_mode": {
    "name": "ipython",
    "version": 3
   },
   "file_extension": ".py",
   "mimetype": "text/x-python",
   "name": "python",
   "nbconvert_exporter": "python",
   "pygments_lexer": "ipython3",
   "version": "3.11.5"
  }
 },
 "nbformat": 4,
 "nbformat_minor": 5
}
